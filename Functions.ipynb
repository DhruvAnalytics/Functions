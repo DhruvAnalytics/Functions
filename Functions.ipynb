{
  "nbformat": 4,
  "nbformat_minor": 0,
  "metadata": {
    "colab": {
      "provenance": []
    },
    "kernelspec": {
      "name": "python3",
      "display_name": "Python 3"
    },
    "language_info": {
      "name": "python"
    }
  },
  "cells": [
    {
      "cell_type": "markdown",
      "source": [
        "# Functions : Theorical Questions"
      ],
      "metadata": {
        "id": "V6mfdwNN6P_n"
      }
    },
    {
      "cell_type": "markdown",
      "source": [
        "1. What is the difference between a function and a method in Python?\n",
        "  - Functions and methods are both used to perform specific tasks. The Difference is :           \n",
        "       - Function : It is a block of code that can be called anywhere in the program and and it doesn't belong to any particular object. We call a function directly by its name and we can pass data to it.\n",
        "       - Method : It is a function that belongs to an object or class and is called using that object. We call a method by using the object's name followed by a dot(.) and then the method's name."
      ],
      "metadata": {
        "id": "L2Q7eTTX6cep"
      }
    },
    {
      "cell_type": "code",
      "execution_count": null,
      "metadata": {
        "colab": {
          "base_uri": "https://localhost:8080/"
        },
        "id": "rGTiOa1_5d3T",
        "outputId": "6bb0024f-10b0-4048-de7e-172994d894e5"
      },
      "outputs": [
        {
          "output_type": "stream",
          "name": "stdout",
          "text": [
            "Hello, Dhruv.\n"
          ]
        }
      ],
      "source": [
        "# Example of Function\n",
        "\n",
        "def greet(name):\n",
        "  return f\"Hello, {name}.\"\n",
        "\n",
        "print(greet(\"Dhruv\"))"
      ]
    },
    {
      "cell_type": "code",
      "source": [
        "# Example of Method\n",
        "\n",
        "class Student:\n",
        "  def __init__(self,name):\n",
        "    self.name = name\n",
        "\n",
        "  def greet(self):\n",
        "    return f\"Hello, {self.name}.\"\n",
        "\n",
        "student = Student(\"Dhruv\")\n",
        "print(student.greet())"
      ],
      "metadata": {
        "colab": {
          "base_uri": "https://localhost:8080/"
        },
        "id": "BL7VWjyC9-yc",
        "outputId": "8d2d23a2-5762-4e03-c4a0-a5a131094da3"
      },
      "execution_count": null,
      "outputs": [
        {
          "output_type": "stream",
          "name": "stdout",
          "text": [
            "Hello, Dhruv.\n"
          ]
        }
      ]
    },
    {
      "cell_type": "markdown",
      "source": [
        "2. Explain the concept of function arguments and parameters in Python.\n",
        "  - When defining a function, we can pass information to it using parameters, and when calling the function, we provide actual values known as arguments.\n",
        "     - Parameters : Variables in the function definition.\n",
        "     - Arguments : Actual values passed to the function when calling it.\n",
        "       Python allows different types of arguments :  Positional Arguments, Default Arguments, Keyword Arguments, Arbitrary Arguments, Arbitrary Keyword Arguments."
      ],
      "metadata": {
        "id": "EQf4zVKUAUs6"
      }
    },
    {
      "cell_type": "code",
      "source": [
        "# Example of function arguments and parameters.\n",
        "\n",
        "def add_numbers(a,b): # a, b are the parameters.\n",
        "  return a + b\n",
        "\n",
        "total = add_numbers(4,5) # 4 and 5 are the arguments\n",
        "print(total)"
      ],
      "metadata": {
        "colab": {
          "base_uri": "https://localhost:8080/"
        },
        "id": "4Cu7cDhzADxj",
        "outputId": "6152c26b-a4a4-4c4a-9852-97d82d67771b"
      },
      "execution_count": null,
      "outputs": [
        {
          "output_type": "stream",
          "name": "stdout",
          "text": [
            "9\n"
          ]
        }
      ]
    },
    {
      "cell_type": "markdown",
      "source": [
        "3. What are the different ways to define and call a function in Python?\n",
        "  - Python functions can be defined and called in many ways depending on the need. Different ways to define and call functions :\n",
        "  1. Regular Function (Positional Arguments) : The most common way to define and call a function.\n",
        "  2. Function with Default Arguments : Allows setting default values for parameters.\n",
        "  3. Function with Keyword Arguments : Arguments are passed using parameter names.\n",
        "  4. Function with Arbitrary Arguments : Allows passing multiple values as a tuple.\n",
        "  5. Function with Arbitrary Keyword Arguments : Allows passing multiple named arguments as a dictionary.\n",
        "  6. Lambda Function : A function without a name, defined in a single line.\n",
        "  7. Recursive Function : A function that calls itself."
      ],
      "metadata": {
        "id": "CsmwRT8ZDGkh"
      }
    },
    {
      "cell_type": "code",
      "source": [
        "# Example of difining and calling function in different ways.\n",
        "\n",
        "# 1.Regular Function (Positional Arguments):\n",
        "def square_no(num):\n",
        "  return num * num\n",
        "\n",
        "print(\"Square of 5:\",square_no(5)) # output : square of 5: 25\n",
        "print()\n",
        "\n",
        "# 2.Function with Default Arguments :\n",
        "def greet(name = \"Gentleman\"):\n",
        "  return f\"Hello, {name}.\"\n",
        "\n",
        "print(greet()) # output : Hello, Gentleman.\n",
        "print()\n",
        "\n",
        "# 3.Function with Keyword Arguments :\n",
        "def intro(name,age):\n",
        "  return f\"My name is {name} and I am {age} years old.\"\n",
        "\n",
        "print(intro(age = 22, name = \"Dhruv\")) # output : My name is Dhruv and I am 22 years old.\n",
        "print()\n",
        "\n",
        "# 4.Function with Arbitrary Arguments :\n",
        "def total_sum(*numbers):\n",
        "  return sum(numbers)\n",
        "\n",
        "print(\"Sum of all numbers:\",total_sum(1,2,3,4,5)) # output : 15\n",
        "print()\n",
        "\n",
        "# 5.Function with Arbitrary Keyword Arguments :\n",
        "def user_details(**details):\n",
        "  return details\n",
        "\n",
        "print(user_details(name = \"Raj\", age = \"24\", city = \"Junagadh\")) # output : {'name': 'Raj', 'age': '24', 'city': 'Junagadh'}\n",
        "print()\n",
        "\n",
        "# 6.Lambda Function :\n",
        "square = lambda x : x * x\n",
        "print(\"Square of 5 using lambda:\",square(5)) # output : Square of 5 using lambda: 25\n",
        "print()\n",
        "\n",
        "# 7.Recursive Function :\n",
        "def factorial(n):\n",
        "  if n == 0 or n == 1:\n",
        "    return 1\n",
        "  else:\n",
        "    return n * factorial(n-1)\n",
        "\n",
        "print(\"Factorial of 5:\", factorial(5)) # output : Factorial of 5: 120"
      ],
      "metadata": {
        "colab": {
          "base_uri": "https://localhost:8080/"
        },
        "id": "lIbLUSuPF-kq",
        "outputId": "db6ccb92-2330-44c6-d504-81b3dd055c18"
      },
      "execution_count": null,
      "outputs": [
        {
          "output_type": "stream",
          "name": "stdout",
          "text": [
            "Square of 5: 25\n",
            "\n",
            "Hello, Gentleman.\n",
            "\n",
            "My name is Dhruv and I am 22 years old.\n",
            "\n",
            "Sum of all numbers: 15\n",
            "\n",
            "{'name': 'Raj', 'age': '24', 'city': 'Junagadh'}\n",
            "\n",
            "Square of 5 using lambda: 25\n",
            "\n",
            "Factorial of 5: 120\n"
          ]
        }
      ]
    },
    {
      "cell_type": "markdown",
      "source": [
        "4. What is the purpose of the 'return' statement in a Python function?\n",
        "  - The return statement in Python is used inside a function to send back a value to the caller. It ends the function execution and returns the result. Functions can return single or multiple values. Without return, they only perform an action but don't provide a result e.g. print statement, it just prints but does not return anything."
      ],
      "metadata": {
        "id": "TGzArgp0M_w2"
      }
    },
    {
      "cell_type": "code",
      "source": [
        "# Example of return statement\n",
        "\n",
        "# Function witout return\n",
        "def greet1(name):\n",
        "  print(f\"Hello, {name}.\") # just prints but does not return anything\n",
        "\n",
        "message = greet1(\"Dhruv\")\n",
        "print(message) # output : None\n",
        "print()\n",
        "\n",
        "# Function with return\n",
        "def greet2(name):\n",
        "  return f\"Hello, {name}.\"\n",
        "\n",
        "message = greet2(\"Pratik\")\n",
        "print(message) # output : Hello, Pratik."
      ],
      "metadata": {
        "colab": {
          "base_uri": "https://localhost:8080/"
        },
        "id": "cgM8sLjaQLrD",
        "outputId": "1c08ac40-c896-4e37-fcba-c7401a2045a9"
      },
      "execution_count": null,
      "outputs": [
        {
          "output_type": "stream",
          "name": "stdout",
          "text": [
            "Hello, Dhruv.\n",
            "None\n",
            "\n",
            "Hello, Pratik.\n"
          ]
        }
      ]
    },
    {
      "cell_type": "markdown",
      "source": [
        "5. What are iterators in Python and how do they differ from iterables?\n",
        "  - Iterators : An iterator is an object that performs iteration and returns values one at a time using next(). It remembers its state between iterations. It implements two methods: iter() -- Returns the iterator itself and next() -- Returns the next value. Once all elements are exhausted, calling next() raises a StopIteration error.\n",
        "  - Iterables : An iterable is any object that contains multiple values and can be looped over, meaning we can go through its elements one by one. It does not track its own state while iterating. Examples of it are: Lists, Tuples, Strings, Dictionaries, Sets. We can convert an iterable into an iterator using the iter() function."
      ],
      "metadata": {
        "id": "OVpRCosGR2Qo"
      }
    },
    {
      "cell_type": "code",
      "source": [
        "# Example of iterators and iterables\n",
        "\n",
        "#iterators:\n",
        "list1 = [1,2,3,4]\n",
        "my_iterator = iter(list1)\n",
        "print(next(my_iterator)) # output : 1\n",
        "print(next(my_iterator)) # output : 2\n",
        "print()\n",
        "\n",
        "#iterables:\n",
        "list2 = [1,2]\n",
        "for i in list2:\n",
        "  print(i)"
      ],
      "metadata": {
        "colab": {
          "base_uri": "https://localhost:8080/"
        },
        "id": "IYrps1YeRz5G",
        "outputId": "c1d6363a-7b6f-4a20-81e8-fee4e13da906"
      },
      "execution_count": null,
      "outputs": [
        {
          "output_type": "stream",
          "name": "stdout",
          "text": [
            "1\n",
            "2\n",
            "\n",
            "1\n",
            "2\n"
          ]
        }
      ]
    },
    {
      "cell_type": "markdown",
      "source": [
        "6. Explain the concept of generators in Python and how they are defined.\n",
        "  - Generator is a special type of function that yields values one at a time instead of returning them all at once. They are useful for working with large datasets. Generators pause execution when yielding a value and resume from where they left off when called again.\n",
        "  - Generator is defined like a normal function but uses the yield keyword instead of return.\n",
        "\n",
        "\n"
      ],
      "metadata": {
        "id": "in5RU_BhZOty"
      }
    },
    {
      "cell_type": "code",
      "source": [
        "# Example of Generators\n",
        "def even_number(number):\n",
        "  for i in range(1,number+1):\n",
        "    if i % 2 == 0:\n",
        "      yield i\n",
        "gen = even_number(10)\n",
        "print(next(gen)) # output : 2\n",
        "print(next(gen)) # output : 4"
      ],
      "metadata": {
        "colab": {
          "base_uri": "https://localhost:8080/"
        },
        "id": "MIl0sPvDXmRK",
        "outputId": "b65e4c9d-1e77-497d-af84-93ae09b73517"
      },
      "execution_count": null,
      "outputs": [
        {
          "output_type": "stream",
          "name": "stdout",
          "text": [
            "2\n",
            "4\n"
          ]
        }
      ]
    },
    {
      "cell_type": "markdown",
      "source": [
        "7. What are the advantages of using generators over regular functions?\n",
        "  - Advantages of Using Generators Over Regular Functions:\n",
        "      - Generators don't store all values in memory. They yield one value at a time. But regular functions must store all those values in memory at once.\n",
        "      - Useful when working with large datasets or infinite sequences.\n",
        "      - Since generators don't generate all values at once, execution starts immediately. Whereas regular functions with large lists take more time because they compute everything first before returning.\n",
        "      - Generators produce values only when needed instead of calculating everything upfront.\n",
        "      - Regular functions must return a finite list, but generators can keep yielding values indefinitely."
      ],
      "metadata": {
        "id": "vL-Ql2ulxE4e"
      }
    },
    {
      "cell_type": "code",
      "source": [
        "# Example : Generating an infinite sequence of natural numbers.\n",
        "def natural_number():\n",
        "  num = 1\n",
        "  while True:\n",
        "    yield num\n",
        "    num = num + 1\n",
        "\n",
        "numbers = natural_number()\n",
        "print(next(numbers)) # output : 1\n",
        "print(next(numbers)) # output : 2\n",
        "# It is not possible using regular function (it will crash)."
      ],
      "metadata": {
        "colab": {
          "base_uri": "https://localhost:8080/"
        },
        "id": "QmnO0IUhwTLh",
        "outputId": "884ad324-9aac-4d53-dbdb-56fa981e0bd4"
      },
      "execution_count": null,
      "outputs": [
        {
          "output_type": "stream",
          "name": "stdout",
          "text": [
            "1\n",
            "2\n"
          ]
        }
      ]
    },
    {
      "cell_type": "markdown",
      "source": [
        "8. What is a lambda function in Python and when is it typically used?\n",
        "  - Lambda function is a small that can have any number of arguments but only one expression. It is also called as anonymous function. It is defined using the lambda keyword.\n",
        "  - When it is typically used:\n",
        "       - Lambda functions are great for one-liner operations instead of defining a full function.\n",
        "       - It is good to use lambda function with Built-in Functions e.g. map(), filter()."
      ],
      "metadata": {
        "id": "txW01qbP0vRt"
      }
    },
    {
      "cell_type": "code",
      "source": [
        "# Example of lambda function :\n",
        "multiply_two_num = lambda x,y : x * y\n",
        "print(multiply_two_num(2,4)) # output : 8"
      ],
      "metadata": {
        "colab": {
          "base_uri": "https://localhost:8080/"
        },
        "id": "l3mMXAhw0H74",
        "outputId": "2e2d7cbe-5d52-4514-db1a-08c89540bf05"
      },
      "execution_count": null,
      "outputs": [
        {
          "output_type": "stream",
          "name": "stdout",
          "text": [
            "8\n"
          ]
        }
      ]
    },
    {
      "cell_type": "markdown",
      "source": [
        "9. Explain the purpose and usage of the 'map()' function in Python.\n",
        "  - The map() function is used to apply a given function to all elements of an iterable (like a list, tuple, or set) without using an explicit loop.\n",
        "  - It helps in writing clean and concise code when performing the same operation on multiple elements.\n",
        "  - Usage :\n",
        "       - When we want to apply the same function to every element.\n",
        "       - When processing numerical data.\n",
        "       - It is used to work with multiple iterables."
      ],
      "metadata": {
        "id": "1Br61AIN3Vqc"
      }
    },
    {
      "cell_type": "code",
      "source": [
        "# Example of map function:\n",
        "numbers = [1,2,3,4,5]\n",
        "squared_numbers = list(map(lambda x : x * x, numbers))\n",
        "print(squared_numbers) # output : [1, 4, 9, 16, 25]"
      ],
      "metadata": {
        "colab": {
          "base_uri": "https://localhost:8080/"
        },
        "id": "7fD2jU-_22c0",
        "outputId": "79f5b2d9-6989-47d3-80ec-e3e0bb760203"
      },
      "execution_count": null,
      "outputs": [
        {
          "output_type": "stream",
          "name": "stdout",
          "text": [
            "[1, 4, 9, 16, 25]\n"
          ]
        }
      ]
    },
    {
      "cell_type": "markdown",
      "source": [
        "10. What is the difference between 'map()', 'reduce()', and 'filter()' functions in Python?\n",
        "  - map() : It is used when we want to modify all elements of a list. It applies to each element.\n",
        "  - filter() : It is used when we want to remove unwanted elements from a list. It filters elements based on a condition.\n",
        "  - reduce() : It is used when we want to combine all elements into a single result. reduce() is not built-in function so we need to import it from functools."
      ],
      "metadata": {
        "id": "7JBHWHKv59Uo"
      }
    },
    {
      "cell_type": "code",
      "source": [
        "# Example of 'map()', 'filter() and 'reduce()'\n",
        "\n",
        "# map()\n",
        "words = [\"hello\", \"dhruv\", \"good morning\"]\n",
        "uppercase_words = list(map(str.upper,words))\n",
        "print(uppercase_words) # output : ['HELLO', 'DHRUV', 'GOOD MORNING']\n",
        "\n",
        "# filter()\n",
        "numbers = [1,2,3,4,5]\n",
        "odd_numbers = list(filter(lambda x : x % 2 != 0, numbers))\n",
        "print(odd_numbers) # output : [1, 3, 5]\n",
        "\n",
        "# reduce()\n",
        "from functools import reduce\n",
        "num = [1,2,3]\n",
        "total = reduce(lambda x,y : x + y, num)\n",
        "print(total) # output : 6"
      ],
      "metadata": {
        "colab": {
          "base_uri": "https://localhost:8080/"
        },
        "id": "IMyjVfls5wlf",
        "outputId": "d3159d6b-6a8f-4181-e3db-2f2c70badd6d"
      },
      "execution_count": null,
      "outputs": [
        {
          "output_type": "stream",
          "name": "stdout",
          "text": [
            "['HELLO', 'DHRUV', 'GOOD MORNING']\n",
            "[1, 3, 5]\n",
            "6\n"
          ]
        }
      ]
    },
    {
      "cell_type": "markdown",
      "source": [
        "11. Using pen & Paper write the internal mechanism for sum operation using  reduce function on this given list:[47,11,42,13];\n",
        "(Attach paper image for this answer) in doc or colab notebook.\n",
        "\n"
      ],
      "metadata": {
        "id": "hmtngW6r9qWA"
      }
    },
    {
      "cell_type": "markdown",
      "source": [
        "![Image.jpeg](data:image/jpeg;base64,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)"
      ],
      "metadata": {
        "id": "E0EQ9Zy7DT3m"
      }
    },
    {
      "cell_type": "code",
      "source": [
        "# Code for it\n",
        "from functools import reduce\n",
        "given_list = [47,11,42,13]\n",
        "total = reduce(lambda x,y : x + y, given_list)\n",
        "print(total)"
      ],
      "metadata": {
        "colab": {
          "base_uri": "https://localhost:8080/"
        },
        "id": "HQ97kyxr-rPO",
        "outputId": "562c1c6a-8c43-4a2d-b6f4-c399e70c0d5f"
      },
      "execution_count": null,
      "outputs": [
        {
          "output_type": "stream",
          "name": "stdout",
          "text": [
            "113\n"
          ]
        }
      ]
    },
    {
      "cell_type": "markdown",
      "source": [
        "# Functions : Practical Questions"
      ],
      "metadata": {
        "id": "0rIEn3GfPF25"
      }
    },
    {
      "cell_type": "code",
      "source": [
        "#1. Write a Python function that takes a list of numbers as input and returns the sum of all even numbers in the list.\n",
        "def sum_even_numbers(numbers):\n",
        "  total = 0\n",
        "  for num in numbers:\n",
        "    if num % 2 == 0:\n",
        "      total = total + num\n",
        "  return total\n",
        "\n",
        "number_list = [1,2,3,4,5]\n",
        "print(\"List:\",number_list)\n",
        "print(\"sum of all even numbers in list:\", sum_even_numbers(number_list))\n"
      ],
      "metadata": {
        "colab": {
          "base_uri": "https://localhost:8080/"
        },
        "id": "njCh-vvJDd8R",
        "outputId": "cbc6636e-a4fb-4c5f-d3c6-8d45f8394552"
      },
      "execution_count": null,
      "outputs": [
        {
          "output_type": "stream",
          "name": "stdout",
          "text": [
            "List: [1, 2, 3, 4, 5]\n",
            "sum of all even numbers in list: 6\n"
          ]
        }
      ]
    },
    {
      "cell_type": "code",
      "source": [
        "#2. Create a Python function that accepts a string and returns the reverse of that string.\n",
        "def reverse_string(text):\n",
        "  string_length = len(text)\n",
        "  reversed_string = \"\"\n",
        "  for i in range(string_length-1, -1, -1):\n",
        "    reversed_string = reversed_string + text[i]\n",
        "  return reversed_string\n",
        "\n",
        "input_string = input(\"Enter a valid string: \")\n",
        "print(\"Reversed string: \", reverse_string(input_string))"
      ],
      "metadata": {
        "colab": {
          "base_uri": "https://localhost:8080/"
        },
        "id": "t68VFsB-TaRt",
        "outputId": "c09d66f2-5fb2-410d-8613-82af407079e2"
      },
      "execution_count": null,
      "outputs": [
        {
          "output_type": "stream",
          "name": "stdout",
          "text": [
            "Enter a valid string: Hello\n",
            "Reversed string:  olleH\n"
          ]
        }
      ]
    },
    {
      "cell_type": "code",
      "source": [
        "#3. Implement a Python function that takes a list of integers and returns a new list containing the squares of each number.\n",
        "def square_numbers(numbers):\n",
        "  squared_numbers = []\n",
        "  for num in numbers:\n",
        "    square_of_number = num * num\n",
        "    squared_numbers.append(square_of_number)\n",
        "  return squared_numbers\n",
        "\n",
        "my_list = [1,2,3,4,5]\n",
        "print(\"List:\",my_list)\n",
        "print(\"List containing the squares of each number: \", square_numbers(my_list))\n"
      ],
      "metadata": {
        "colab": {
          "base_uri": "https://localhost:8080/"
        },
        "id": "JChsyTepXs1k",
        "outputId": "12260b22-4c7e-43d8-a880-629eb54be4ba"
      },
      "execution_count": null,
      "outputs": [
        {
          "output_type": "stream",
          "name": "stdout",
          "text": [
            "List: [1, 2, 3, 4, 5]\n",
            "List containing the squares of each number:  [1, 4, 9, 16, 25]\n"
          ]
        }
      ]
    },
    {
      "cell_type": "code",
      "source": [
        "#4. Write a Python function that checks if a given number is prime or not from 1 to 200.\n",
        "def is_prime(n):\n",
        "  if n < 2:\n",
        "    return False # Prime number starts from 2\n",
        "  for i in range(2,int(n**0.5)+1):\n",
        "    if n % i == 0:\n",
        "      return False\n",
        "  return True\n",
        "\n",
        "\n",
        "for n in range(1,201):\n",
        "  if is_prime(n):\n",
        "    print(f\"{n} is a prime number.\")\n",
        "  else:\n",
        "    print(f\"{n} is not a prime number.\")"
      ],
      "metadata": {
        "colab": {
          "base_uri": "https://localhost:8080/"
        },
        "id": "aFgm9VDFagBo",
        "outputId": "8b6c6916-61df-4c12-84cc-c647ab38c4a1"
      },
      "execution_count": null,
      "outputs": [
        {
          "output_type": "stream",
          "name": "stdout",
          "text": [
            "1 is not a prime number.\n",
            "2 is a prime number.\n",
            "3 is a prime number.\n",
            "4 is not a prime number.\n",
            "5 is a prime number.\n",
            "6 is not a prime number.\n",
            "7 is a prime number.\n",
            "8 is not a prime number.\n",
            "9 is not a prime number.\n",
            "10 is not a prime number.\n",
            "11 is a prime number.\n",
            "12 is not a prime number.\n",
            "13 is a prime number.\n",
            "14 is not a prime number.\n",
            "15 is not a prime number.\n",
            "16 is not a prime number.\n",
            "17 is a prime number.\n",
            "18 is not a prime number.\n",
            "19 is a prime number.\n",
            "20 is not a prime number.\n",
            "21 is not a prime number.\n",
            "22 is not a prime number.\n",
            "23 is a prime number.\n",
            "24 is not a prime number.\n",
            "25 is not a prime number.\n",
            "26 is not a prime number.\n",
            "27 is not a prime number.\n",
            "28 is not a prime number.\n",
            "29 is a prime number.\n",
            "30 is not a prime number.\n",
            "31 is a prime number.\n",
            "32 is not a prime number.\n",
            "33 is not a prime number.\n",
            "34 is not a prime number.\n",
            "35 is not a prime number.\n",
            "36 is not a prime number.\n",
            "37 is a prime number.\n",
            "38 is not a prime number.\n",
            "39 is not a prime number.\n",
            "40 is not a prime number.\n",
            "41 is a prime number.\n",
            "42 is not a prime number.\n",
            "43 is a prime number.\n",
            "44 is not a prime number.\n",
            "45 is not a prime number.\n",
            "46 is not a prime number.\n",
            "47 is a prime number.\n",
            "48 is not a prime number.\n",
            "49 is not a prime number.\n",
            "50 is not a prime number.\n",
            "51 is not a prime number.\n",
            "52 is not a prime number.\n",
            "53 is a prime number.\n",
            "54 is not a prime number.\n",
            "55 is not a prime number.\n",
            "56 is not a prime number.\n",
            "57 is not a prime number.\n",
            "58 is not a prime number.\n",
            "59 is a prime number.\n",
            "60 is not a prime number.\n",
            "61 is a prime number.\n",
            "62 is not a prime number.\n",
            "63 is not a prime number.\n",
            "64 is not a prime number.\n",
            "65 is not a prime number.\n",
            "66 is not a prime number.\n",
            "67 is a prime number.\n",
            "68 is not a prime number.\n",
            "69 is not a prime number.\n",
            "70 is not a prime number.\n",
            "71 is a prime number.\n",
            "72 is not a prime number.\n",
            "73 is a prime number.\n",
            "74 is not a prime number.\n",
            "75 is not a prime number.\n",
            "76 is not a prime number.\n",
            "77 is not a prime number.\n",
            "78 is not a prime number.\n",
            "79 is a prime number.\n",
            "80 is not a prime number.\n",
            "81 is not a prime number.\n",
            "82 is not a prime number.\n",
            "83 is a prime number.\n",
            "84 is not a prime number.\n",
            "85 is not a prime number.\n",
            "86 is not a prime number.\n",
            "87 is not a prime number.\n",
            "88 is not a prime number.\n",
            "89 is a prime number.\n",
            "90 is not a prime number.\n",
            "91 is not a prime number.\n",
            "92 is not a prime number.\n",
            "93 is not a prime number.\n",
            "94 is not a prime number.\n",
            "95 is not a prime number.\n",
            "96 is not a prime number.\n",
            "97 is a prime number.\n",
            "98 is not a prime number.\n",
            "99 is not a prime number.\n",
            "100 is not a prime number.\n",
            "101 is a prime number.\n",
            "102 is not a prime number.\n",
            "103 is a prime number.\n",
            "104 is not a prime number.\n",
            "105 is not a prime number.\n",
            "106 is not a prime number.\n",
            "107 is a prime number.\n",
            "108 is not a prime number.\n",
            "109 is a prime number.\n",
            "110 is not a prime number.\n",
            "111 is not a prime number.\n",
            "112 is not a prime number.\n",
            "113 is a prime number.\n",
            "114 is not a prime number.\n",
            "115 is not a prime number.\n",
            "116 is not a prime number.\n",
            "117 is not a prime number.\n",
            "118 is not a prime number.\n",
            "119 is not a prime number.\n",
            "120 is not a prime number.\n",
            "121 is not a prime number.\n",
            "122 is not a prime number.\n",
            "123 is not a prime number.\n",
            "124 is not a prime number.\n",
            "125 is not a prime number.\n",
            "126 is not a prime number.\n",
            "127 is a prime number.\n",
            "128 is not a prime number.\n",
            "129 is not a prime number.\n",
            "130 is not a prime number.\n",
            "131 is a prime number.\n",
            "132 is not a prime number.\n",
            "133 is not a prime number.\n",
            "134 is not a prime number.\n",
            "135 is not a prime number.\n",
            "136 is not a prime number.\n",
            "137 is a prime number.\n",
            "138 is not a prime number.\n",
            "139 is a prime number.\n",
            "140 is not a prime number.\n",
            "141 is not a prime number.\n",
            "142 is not a prime number.\n",
            "143 is not a prime number.\n",
            "144 is not a prime number.\n",
            "145 is not a prime number.\n",
            "146 is not a prime number.\n",
            "147 is not a prime number.\n",
            "148 is not a prime number.\n",
            "149 is a prime number.\n",
            "150 is not a prime number.\n",
            "151 is a prime number.\n",
            "152 is not a prime number.\n",
            "153 is not a prime number.\n",
            "154 is not a prime number.\n",
            "155 is not a prime number.\n",
            "156 is not a prime number.\n",
            "157 is a prime number.\n",
            "158 is not a prime number.\n",
            "159 is not a prime number.\n",
            "160 is not a prime number.\n",
            "161 is not a prime number.\n",
            "162 is not a prime number.\n",
            "163 is a prime number.\n",
            "164 is not a prime number.\n",
            "165 is not a prime number.\n",
            "166 is not a prime number.\n",
            "167 is a prime number.\n",
            "168 is not a prime number.\n",
            "169 is not a prime number.\n",
            "170 is not a prime number.\n",
            "171 is not a prime number.\n",
            "172 is not a prime number.\n",
            "173 is a prime number.\n",
            "174 is not a prime number.\n",
            "175 is not a prime number.\n",
            "176 is not a prime number.\n",
            "177 is not a prime number.\n",
            "178 is not a prime number.\n",
            "179 is a prime number.\n",
            "180 is not a prime number.\n",
            "181 is a prime number.\n",
            "182 is not a prime number.\n",
            "183 is not a prime number.\n",
            "184 is not a prime number.\n",
            "185 is not a prime number.\n",
            "186 is not a prime number.\n",
            "187 is not a prime number.\n",
            "188 is not a prime number.\n",
            "189 is not a prime number.\n",
            "190 is not a prime number.\n",
            "191 is a prime number.\n",
            "192 is not a prime number.\n",
            "193 is a prime number.\n",
            "194 is not a prime number.\n",
            "195 is not a prime number.\n",
            "196 is not a prime number.\n",
            "197 is a prime number.\n",
            "198 is not a prime number.\n",
            "199 is a prime number.\n",
            "200 is not a prime number.\n"
          ]
        }
      ]
    },
    {
      "cell_type": "code",
      "source": [
        "#5. Create an iterator class in Python that generates the Fibonacci sequence up to a specified number of terms.\n",
        "class FibonacciIterator:\n",
        "  def __init__(self, n):\n",
        "    self.n = n\n",
        "    self.a = 0\n",
        "    self.b = 1\n",
        "    self.count = 0\n",
        "\n",
        "  def __iter__(self):\n",
        "    return self # The iterator object itself\n",
        "\n",
        "  def __next__(self):\n",
        "    if self.count >= self.n:\n",
        "      raise StopIteration  # Stop when we reach the limit\n",
        "\n",
        "    if self.count == 0:\n",
        "      self.count = self.count + 1\n",
        "      return self.a  # First Fibonacci number\n",
        "\n",
        "    elif self.count == 1:\n",
        "      self.count = self.count + 1\n",
        "      return self.b  # Second Fibonacci number\n",
        "\n",
        "    else:\n",
        "      fib_number = self.a + self.b  # Compute next Fibonacci number\n",
        "      self.a, self.b = self.b, fib_number\n",
        "      self.count = self.count + 1\n",
        "      return fib_number\n",
        "\n",
        "n = int(input(\"Enter the number: \"))\n",
        "fib_iterator = FibonacciIterator(n)\n",
        "\n",
        "print(\"Fibonacci Sequence:\")\n",
        "for num in fib_iterator:\n",
        "    print(num, end=\" \")"
      ],
      "metadata": {
        "colab": {
          "base_uri": "https://localhost:8080/"
        },
        "id": "Duv-U-h8hmtT",
        "outputId": "5025a4bc-58ed-4caa-b116-2465b7f06c77"
      },
      "execution_count": null,
      "outputs": [
        {
          "output_type": "stream",
          "name": "stdout",
          "text": [
            "Enter the number: 5\n",
            "Fibonacci Sequence:\n",
            "0 1 1 2 3 "
          ]
        }
      ]
    },
    {
      "cell_type": "code",
      "source": [
        "#6. Write a generator function in Python that yields the powers of 2 up to a given exponent.\n",
        "def powers_of_two(exponent):\n",
        "  for i in range(exponent + 1):\n",
        "    yield f\"2 power {i} is {2 ** i}\"\n",
        "\n",
        "n = int(input(\"Enter the exponent: \"))\n",
        "for result in powers_of_two(n):\n",
        "  print(result)"
      ],
      "metadata": {
        "colab": {
          "base_uri": "https://localhost:8080/"
        },
        "id": "cNASob_xsSgU",
        "outputId": "9b95d881-51c3-4d86-a6ef-9b339f49e77b"
      },
      "execution_count": null,
      "outputs": [
        {
          "output_type": "stream",
          "name": "stdout",
          "text": [
            "Enter the exponent: 4\n",
            "2 power 0 is 1\n",
            "2 power 1 is 2\n",
            "2 power 2 is 4\n",
            "2 power 3 is 8\n",
            "2 power 4 is 16\n"
          ]
        }
      ]
    },
    {
      "cell_type": "code",
      "source": [
        "#7. Implement a generator function that reads a file line by line and yields each line as a string.\n",
        "# First I Upload a File\n",
        "from google.colab import files\n",
        "uploaded = files.upload()"
      ],
      "metadata": {
        "colab": {
          "base_uri": "https://localhost:8080/",
          "height": 73
        },
        "id": "ffa-bjoP6j6y",
        "outputId": "5a3e9aa9-11bb-4406-db5f-de0aae675dd7"
      },
      "execution_count": null,
      "outputs": [
        {
          "output_type": "display_data",
          "data": {
            "text/plain": [
              "<IPython.core.display.HTML object>"
            ],
            "text/html": [
              "\n",
              "     <input type=\"file\" id=\"files-6df1ef87-9d72-41e9-9217-719638e1b507\" name=\"files[]\" multiple disabled\n",
              "        style=\"border:none\" />\n",
              "     <output id=\"result-6df1ef87-9d72-41e9-9217-719638e1b507\">\n",
              "      Upload widget is only available when the cell has been executed in the\n",
              "      current browser session. Please rerun this cell to enable.\n",
              "      </output>\n",
              "      <script>// Copyright 2017 Google LLC\n",
              "//\n",
              "// Licensed under the Apache License, Version 2.0 (the \"License\");\n",
              "// you may not use this file except in compliance with the License.\n",
              "// You may obtain a copy of the License at\n",
              "//\n",
              "//      http://www.apache.org/licenses/LICENSE-2.0\n",
              "//\n",
              "// Unless required by applicable law or agreed to in writing, software\n",
              "// distributed under the License is distributed on an \"AS IS\" BASIS,\n",
              "// WITHOUT WARRANTIES OR CONDITIONS OF ANY KIND, either express or implied.\n",
              "// See the License for the specific language governing permissions and\n",
              "// limitations under the License.\n",
              "\n",
              "/**\n",
              " * @fileoverview Helpers for google.colab Python module.\n",
              " */\n",
              "(function(scope) {\n",
              "function span(text, styleAttributes = {}) {\n",
              "  const element = document.createElement('span');\n",
              "  element.textContent = text;\n",
              "  for (const key of Object.keys(styleAttributes)) {\n",
              "    element.style[key] = styleAttributes[key];\n",
              "  }\n",
              "  return element;\n",
              "}\n",
              "\n",
              "// Max number of bytes which will be uploaded at a time.\n",
              "const MAX_PAYLOAD_SIZE = 100 * 1024;\n",
              "\n",
              "function _uploadFiles(inputId, outputId) {\n",
              "  const steps = uploadFilesStep(inputId, outputId);\n",
              "  const outputElement = document.getElementById(outputId);\n",
              "  // Cache steps on the outputElement to make it available for the next call\n",
              "  // to uploadFilesContinue from Python.\n",
              "  outputElement.steps = steps;\n",
              "\n",
              "  return _uploadFilesContinue(outputId);\n",
              "}\n",
              "\n",
              "// This is roughly an async generator (not supported in the browser yet),\n",
              "// where there are multiple asynchronous steps and the Python side is going\n",
              "// to poll for completion of each step.\n",
              "// This uses a Promise to block the python side on completion of each step,\n",
              "// then passes the result of the previous step as the input to the next step.\n",
              "function _uploadFilesContinue(outputId) {\n",
              "  const outputElement = document.getElementById(outputId);\n",
              "  const steps = outputElement.steps;\n",
              "\n",
              "  const next = steps.next(outputElement.lastPromiseValue);\n",
              "  return Promise.resolve(next.value.promise).then((value) => {\n",
              "    // Cache the last promise value to make it available to the next\n",
              "    // step of the generator.\n",
              "    outputElement.lastPromiseValue = value;\n",
              "    return next.value.response;\n",
              "  });\n",
              "}\n",
              "\n",
              "/**\n",
              " * Generator function which is called between each async step of the upload\n",
              " * process.\n",
              " * @param {string} inputId Element ID of the input file picker element.\n",
              " * @param {string} outputId Element ID of the output display.\n",
              " * @return {!Iterable<!Object>} Iterable of next steps.\n",
              " */\n",
              "function* uploadFilesStep(inputId, outputId) {\n",
              "  const inputElement = document.getElementById(inputId);\n",
              "  inputElement.disabled = false;\n",
              "\n",
              "  const outputElement = document.getElementById(outputId);\n",
              "  outputElement.innerHTML = '';\n",
              "\n",
              "  const pickedPromise = new Promise((resolve) => {\n",
              "    inputElement.addEventListener('change', (e) => {\n",
              "      resolve(e.target.files);\n",
              "    });\n",
              "  });\n",
              "\n",
              "  const cancel = document.createElement('button');\n",
              "  inputElement.parentElement.appendChild(cancel);\n",
              "  cancel.textContent = 'Cancel upload';\n",
              "  const cancelPromise = new Promise((resolve) => {\n",
              "    cancel.onclick = () => {\n",
              "      resolve(null);\n",
              "    };\n",
              "  });\n",
              "\n",
              "  // Wait for the user to pick the files.\n",
              "  const files = yield {\n",
              "    promise: Promise.race([pickedPromise, cancelPromise]),\n",
              "    response: {\n",
              "      action: 'starting',\n",
              "    }\n",
              "  };\n",
              "\n",
              "  cancel.remove();\n",
              "\n",
              "  // Disable the input element since further picks are not allowed.\n",
              "  inputElement.disabled = true;\n",
              "\n",
              "  if (!files) {\n",
              "    return {\n",
              "      response: {\n",
              "        action: 'complete',\n",
              "      }\n",
              "    };\n",
              "  }\n",
              "\n",
              "  for (const file of files) {\n",
              "    const li = document.createElement('li');\n",
              "    li.append(span(file.name, {fontWeight: 'bold'}));\n",
              "    li.append(span(\n",
              "        `(${file.type || 'n/a'}) - ${file.size} bytes, ` +\n",
              "        `last modified: ${\n",
              "            file.lastModifiedDate ? file.lastModifiedDate.toLocaleDateString() :\n",
              "                                    'n/a'} - `));\n",
              "    const percent = span('0% done');\n",
              "    li.appendChild(percent);\n",
              "\n",
              "    outputElement.appendChild(li);\n",
              "\n",
              "    const fileDataPromise = new Promise((resolve) => {\n",
              "      const reader = new FileReader();\n",
              "      reader.onload = (e) => {\n",
              "        resolve(e.target.result);\n",
              "      };\n",
              "      reader.readAsArrayBuffer(file);\n",
              "    });\n",
              "    // Wait for the data to be ready.\n",
              "    let fileData = yield {\n",
              "      promise: fileDataPromise,\n",
              "      response: {\n",
              "        action: 'continue',\n",
              "      }\n",
              "    };\n",
              "\n",
              "    // Use a chunked sending to avoid message size limits. See b/62115660.\n",
              "    let position = 0;\n",
              "    do {\n",
              "      const length = Math.min(fileData.byteLength - position, MAX_PAYLOAD_SIZE);\n",
              "      const chunk = new Uint8Array(fileData, position, length);\n",
              "      position += length;\n",
              "\n",
              "      const base64 = btoa(String.fromCharCode.apply(null, chunk));\n",
              "      yield {\n",
              "        response: {\n",
              "          action: 'append',\n",
              "          file: file.name,\n",
              "          data: base64,\n",
              "        },\n",
              "      };\n",
              "\n",
              "      let percentDone = fileData.byteLength === 0 ?\n",
              "          100 :\n",
              "          Math.round((position / fileData.byteLength) * 100);\n",
              "      percent.textContent = `${percentDone}% done`;\n",
              "\n",
              "    } while (position < fileData.byteLength);\n",
              "  }\n",
              "\n",
              "  // All done.\n",
              "  yield {\n",
              "    response: {\n",
              "      action: 'complete',\n",
              "    }\n",
              "  };\n",
              "}\n",
              "\n",
              "scope.google = scope.google || {};\n",
              "scope.google.colab = scope.google.colab || {};\n",
              "scope.google.colab._files = {\n",
              "  _uploadFiles,\n",
              "  _uploadFilesContinue,\n",
              "};\n",
              "})(self);\n",
              "</script> "
            ]
          },
          "metadata": {}
        },
        {
          "output_type": "stream",
          "name": "stdout",
          "text": [
            "Saving sample.txt to sample.txt\n"
          ]
        }
      ]
    },
    {
      "cell_type": "code",
      "source": [
        "# then execute this code.\n",
        "def read_file_line_by_line(file_path):\n",
        "    with open(file_path, \"r\") as file:  # Open the file in read mode\n",
        "        for line in file:\n",
        "            yield line.strip() # Remove extra spaces and newlines\n",
        "file_path = \"sample.txt\" # file name\n",
        "for line in read_file_line_by_line(file_path):\n",
        "    print(line)"
      ],
      "metadata": {
        "colab": {
          "base_uri": "https://localhost:8080/"
        },
        "id": "HhzjEGuoy1X3",
        "outputId": "67343341-b673-4884-b648-72732dc3dbf6"
      },
      "execution_count": null,
      "outputs": [
        {
          "output_type": "stream",
          "name": "stdout",
          "text": [
            "Hello, Dhruv.\n",
            "This is a sample file. You can read it.\n"
          ]
        }
      ]
    },
    {
      "cell_type": "code",
      "source": [
        "#8. Use a lambda function in Python to sort a list of tuples based on the second element of each tuple.\n",
        "\n",
        "tuples_list = [(1,2),(2,3),(3,4),(4,5),(3,1),(4,8),(5,7),(6,6)]\n",
        "print(\"Original tuple list:\",tuples_list)\n",
        "\n",
        "sorted_list = sorted(tuples_list, key = lambda x : x[1])\n",
        "print(\"Sorted list:\",sorted_list)"
      ],
      "metadata": {
        "colab": {
          "base_uri": "https://localhost:8080/"
        },
        "id": "bNHTKfxh7CEq",
        "outputId": "19195b13-22cb-4b1b-ddf3-2b7f9573819f"
      },
      "execution_count": null,
      "outputs": [
        {
          "output_type": "stream",
          "name": "stdout",
          "text": [
            "Original tuple list: [(1, 2), (2, 3), (3, 4), (4, 5), (3, 1), (4, 8), (5, 7), (6, 6)]\n",
            "Sorted list: [(3, 1), (1, 2), (2, 3), (3, 4), (4, 5), (6, 6), (5, 7), (4, 8)]\n"
          ]
        }
      ]
    },
    {
      "cell_type": "code",
      "source": [
        "#9. Write a Python program that uses 'map()' to convert a list of temperatures from Celsius to Fahrenheit.\n",
        "cel_temp = [0, 19, 22, 55, 100]\n",
        "print(\"Temperatures in celsius:\",cel_temp)\n",
        "fahren_temp = list(map(lambda c : (9/5)*c + 32, cel_temp))\n",
        "print(\"Temperatures in Fahrenheit:\", fahren_temp)"
      ],
      "metadata": {
        "colab": {
          "base_uri": "https://localhost:8080/"
        },
        "id": "wxR2YsjH9FM-",
        "outputId": "96374889-1bc0-4615-c5f7-f0bc6ccfbe38"
      },
      "execution_count": null,
      "outputs": [
        {
          "output_type": "stream",
          "name": "stdout",
          "text": [
            "Temperatures in celsius: [0, 19, 22, 55, 100]\n",
            "Temperatures in Fahrenheit: [32.0, 66.2, 71.6, 131.0, 212.0]\n"
          ]
        }
      ]
    },
    {
      "cell_type": "code",
      "source": [
        "#10. Create a Python program that uses 'filter()' to remove all the vowels from a given string.\n",
        "def no_vowels(char):\n",
        "  vowels = \"aeiouAEIOU\"\n",
        "  return char not in vowels\n",
        "\n",
        "given_string = \"Hello, Good evening\"\n",
        "print(\"Original string:\",given_string)\n",
        "removed_vowel_string = \"\".join(filter(no_vowels, given_string))\n",
        "print(\"After removing vowels:\",removed_vowel_string)"
      ],
      "metadata": {
        "colab": {
          "base_uri": "https://localhost:8080/"
        },
        "id": "rSRCkhqK-jNF",
        "outputId": "f53009d0-72da-4b62-9bb9-d85305d716bd"
      },
      "execution_count": null,
      "outputs": [
        {
          "output_type": "stream",
          "name": "stdout",
          "text": [
            "Original string: Hello, Good evening\n",
            "After removing vowels: Hll, Gd vnng\n"
          ]
        }
      ]
    },
    {
      "cell_type": "code",
      "source": [
        "#11. Question:\n",
        "\"\"\"\n",
        "Imagine an accounting routine used in a book shop. It works on a list with sublists, which look like this: Write a Python program, which returns a list with 2-tuples.\n",
        "Each tuple consists of the order number and the product of the price per item and the quantity.\n",
        "The product should be increased by 10,- € if the value of the order is smaller than 100,00 €. Write a Python program using lambda and map.\n",
        "\"\"\"\n",
        "orders = [\n",
        "    (34587, \"Learning Python, Mark Lutz\", 4, 40.95),\n",
        "    (98752, \"Programming Python, Mark Lutz\", 5, 56.80),\n",
        "    (77226, \"Head First Python, Paul Barry\", 3, 32.95),\n",
        "    (88112, \"Einführung in Python3, Bernd Klein\", 3, 24.99)\n",
        "]\n",
        "\n",
        "# Using map and lambda function\n",
        "result = list(map(lambda order: (order[0], round(order[2] * order[3] + (10 if order[2] * order[3] < 100 else 0), 2)), orders))\n",
        "# Here In output, first tuple value is the order number and second tuple value is the multiplication of price and quantity and add 10 in total if total is less than 100.\n",
        "print(\"Final Output:\", result)"
      ],
      "metadata": {
        "colab": {
          "base_uri": "https://localhost:8080/"
        },
        "id": "0BdEIudqCHXJ",
        "outputId": "c549ac48-b3f6-4b8a-84b8-7959a15b3c45"
      },
      "execution_count": null,
      "outputs": [
        {
          "output_type": "stream",
          "name": "stdout",
          "text": [
            "Final Output: [(34587, 163.8), (98752, 284.0), (77226, 108.85), (88112, 84.97)]\n"
          ]
        }
      ]
    },
    {
      "cell_type": "code",
      "source": [
        "# without lambda\n",
        "orders = [\n",
        "    (34587, \"Learning Python, Mark Lutz\", 4, 40.95),\n",
        "    (98752, \"Programming Python, Mark Lutz\", 5, 56.80),\n",
        "    (77226, \"Head First Python, Paul Barry\", 3, 32.95),\n",
        "    (88112, \"Einführung in Python3, Bernd Klein\", 3, 24.99)\n",
        "]\n",
        "\n",
        "# Regular function to calculate total cost with conditions\n",
        "def calculate_total(order):\n",
        "    order_number = order[0]\n",
        "    total_cost = order[2] * order[3]\n",
        "    if total_cost < 100:\n",
        "        total_cost += 10\n",
        "    return (order_number, round(total_cost, 2))\n",
        "\n",
        "# Using map with a regular function\n",
        "result = list(map(calculate_total, orders))\n",
        "print(\"Final Output:\", result)"
      ],
      "metadata": {
        "colab": {
          "base_uri": "https://localhost:8080/"
        },
        "id": "JBpwTM2NMG0_",
        "outputId": "8cfd8459-fdd5-44d2-d5b6-1e1545d8eed2"
      },
      "execution_count": null,
      "outputs": [
        {
          "output_type": "stream",
          "name": "stdout",
          "text": [
            "Final Output: [(34587, 163.8), (98752, 284.0), (77226, 108.85), (88112, 84.97)]\n"
          ]
        }
      ]
    }
  ]
}